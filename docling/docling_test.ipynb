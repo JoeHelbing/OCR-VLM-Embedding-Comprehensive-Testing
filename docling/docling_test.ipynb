{
 "cells": [
  {
   "cell_type": "code",
   "execution_count": 3,
   "metadata": {},
   "outputs": [
    {
     "name": "stdout",
     "output_type": "stream",
     "text": [
      "/home/joe/ttop/nlp_proj\n"
     ]
    }
   ],
   "source": [
    "# change cwd one level up\n",
    "import os\n",
    "os.chdir(os.path.dirname(os.getcwd()))\n",
    "print(os.getcwd())"
   ]
  },
  {
   "cell_type": "code",
   "execution_count": 4,
   "metadata": {},
   "outputs": [],
   "source": [
    "source = \"data/tables/pdfs/DataTables example - PDF - image.pdf\"  # PDF path or URL"
   ]
  },
  {
   "cell_type": "code",
   "execution_count": 5,
   "metadata": {},
   "outputs": [
    {
     "data": {
      "application/vnd.jupyter.widget-view+json": {
       "model_id": "b1cc12bbc13b4cce80779589892ab2a4",
       "version_major": 2,
       "version_minor": 0
      },
      "text/plain": [
       "Fetching 9 files:   0%|          | 0/9 [00:00<?, ?it/s]"
      ]
     },
     "metadata": {},
     "output_type": "display_data"
    },
    {
     "name": "stdout",
     "output_type": "stream",
     "text": [
      "## DataTables example - PDF - image\n",
      "\n",
      "<!-- image -->\n",
      "\n",
      "| Name               | Position                      | Office        |   Age | Start date   | Salary     |\n",
      "|--------------------|-------------------------------|---------------|-------|--------------|------------|\n",
      "| Airi Satou         | Accountant                    | Tokyo         |    33 | 2008-11-28   | $162,700   |\n",
      "| Angelica Ramos     | Chief Executive Officer (CEO) | London        |    47 | 2009-10-09   | $1,200,000 |\n",
      "| Ashton Cox         | Junior Technical Author       | San Francisco |    66 | 2009-01-12   | $86,000    |\n",
      "| Bradley Greer      | Software Engineer             | London        |    41 | 2012-10-13   | $132,000   |\n",
      "| Brenden Wagner     | Software Engineer             | San Francisco |    28 | 2011-06-07   | $206,850   |\n",
      "| Brielle Williamson | Integration Specialist        | New York      |    61 | 2012-12-02   | $372,000   |\n",
      "| Bruno Nash         | Software Engineer             | London        |    38 | 2011-05-03   | $163,500   |\n",
      "| Caesar Vance       | Pre-Sales Support             | New York      |    21 | 2011-12-12   | $106,450   |\n",
      "| Cara Stevens       | Sales Assistant               | New York      |    46 | 2011-12-06   | $145,600   |\n",
      "| Cedric Kelly       | Senior Javascript Developer   | Edinburgh     |    22 | 2012-03-29   | $433,060   |\n",
      "| Charde Marshall    | Regional Director             | San Francisco |    36 | 2008-10-16   | $470,600   |\n",
      "| Colleen Hurst      | Javascript Developer          | San Francisco |    39 | 2009-09-15   | $205,500   |\n",
      "| Dai Rios           | Personnel Lead                | Edinburgh     |    35 | 2012-09-26   | $217,500   |\n",
      "| Donna Snider       | Customer Support              | New York      |    27 | 2011-01-25   | $112,000   |\n",
      "| Doris Wilder       | Sales Assistant               | Sydney        |    23 | 2010-09-20   | $85,600    |\n",
      "| Finn Camacho       | Support Engineer              | San Francisco |    47 | 2009-07-07   | $87,500    |\n",
      "| Fiona Green        | Chief Operating Officer (COO) | San Francisco |    48 | 2010-03-11   | $850,000   |\n",
      "| Garrett Winters    | Accountant                    | Tokyo         |    63 | 2011-07-25   | $170,750   |\n",
      "| Gavin Cortez       | Team Leader                   | San Francisco |    22 | 2008-10-26   | $235,500   |\n",
      "| Gavin Joyce        | Developer                     | Edinburgh     |    42 | 2010-12-22   | $92,575    |\n",
      "| Gloria Little      | Systems Administrator         | New York      |    59 | 2009-04-10   | $237,500   |\n",
      "| Haley Kennedy      | Senior Marketing Designer     | London        |    43 | 2012-12-18   | $313,500   |\n",
      "| Hermione Butler    | Regional Director             | London        |    47 | 2011-03-21   | $356,250   |\n",
      "| Herrod Chandler    | Sales Assistant               | San Francisco |    59 | 2012-08-06   | $137,500   |\n",
      "\n",
      "| Name                | Position                      | Office        |   Age | Start date   | Salary   |\n",
      "|---------------------|-------------------------------|---------------|-------|--------------|----------|\n",
      "| Hope Fuentes        | Secretary                     | San Francisco |    41 | 2010-02-12   | $109,850 |\n",
      "| Howard Hatfield     | Office Manager                | San Francisco |    51 | 2008-12-16   | $164,500 |\n",
      "| Jackson Bradshaw    | Director                      | New York      |    65 | 2008-09-26   | $645,750 |\n",
      "| Jena Gaines         | Office Manager                | London        |    30 | 2008-12-19   | $90,560  |\n",
      "| Jenette Caldwell    | Development Lead              | New York      |    30 | 2011-09-03   | $345,000 |\n",
      "| Jennifer Acosta     | Junior Javascript Developer   | Edinburgh     |    43 | 2013-02-01   | $75,650  |\n",
      "| Jennifer Chang      | Regional Director             | Singapore     |    28 | 2010-11-14   | $357,650 |\n",
      "| Jonas Alexander     | Developer                     | San Francisco |    30 | 2010-07-14   | $86,500  |\n",
      "| Lael Greer          | Systems Administrator         | London        |    21 | 2009-02-27   | $103,500 |\n",
      "| Martena Mccray      | Post-Sales support            | Edinburgh     |    46 | 2011-03-09   | $324,050 |\n",
      "| Michael Bruce       | Javascript Developer          | Singapore     |    29 | 2011-06-27   | $183,000 |\n",
      "| Michael Silva       | Marketing Designer            | London        |    66 | 2012-11-27   | $198,500 |\n",
      "| Michelle House      | Integration Specialist        | Sydney        |    37 | 2011-06-02   | $95,400  |\n",
      "| Olivia Liang        | Support Engineer              | Singapore     |    64 | 2011-02-03   | $234,500 |\n",
      "| Paul Byrd           | Chief Financial Officer (CFO) | New York      |    64 | 2010-06-09   | $725,000 |\n",
      "| Prescott Bartlett   | Technical Author              | London        |    27 | 2011-05-07   | $145,000 |\n",
      "| Quinn Flynn         | Support Lead                  | Edinburgh     |    22 | 2013-03-03   | $342,000 |\n",
      "| Rhona Davidson      | Integration Specialist        | Tokyo         |    55 | 2010-10-14   | $327,900 |\n",
      "| Sakura Yamamoto     | Support Engineer              | Tokyo         |    37 | 2009-08-19   | $139,575 |\n",
      "| Serge Baldwin       | Data Coordinator              | Singapore     |    64 | 2012-04-09   | $138,575 |\n",
      "| Shad Decker         | Regional Director             | Edinburgh     |    51 | 2008-11-13   | $183,000 |\n",
      "| Shou Itou           | Regional Marketing            | Tokyo         |    20 | 2011-08-14   | $163,000 |\n",
      "| Sonya Frost         | Software Engineer             | Edinburgh     |    23 | 2008-12-13   | $103,600 |\n",
      "| Suki Burks          | Developer                     | London        |    53 | 2009-10-22   | $114,500 |\n",
      "| Tatyana Fitzpatrick | Regional Director             | London        |    19 | 2010-03-17   | $385,750 |\n",
      "| Thor Walton         | Developer                     | New York      |    61 | 2013-08-11   | $98,540  |\n",
      "| Tiger Nixon         | System Architect              | Edinburgh     |    61 | 2011-04-25   | $320,800 |\n",
      "| Timothy Mooney      | Office Manager                | London        |    37 | 2008-12-11   | $136,200 |\n",
      "| Unity Butler        | Marketing Designer            | San Francisco |    47 | 2009-12-09   | $85,675  |\n",
      "| Vivian Harrell      | Financial Controller          | San Francisco |    62 | 2009-02-14   | $452,500 |\n",
      "\n",
      "| Name           | Position                      | Office        | Age   | Start date   | Salary   |\n",
      "|----------------|-------------------------------|---------------|-------|--------------|----------|\n",
      "| Yuri Berry     | Chief Marketing Officer (CMO) | New York      | 40    | 2009-06-25   | $675,000 |\n",
      "| Zenaida Frank  | Software Engineer             | New York      | 63    | 2010-01-04   | $125,250 |\n",
      "| Zorita Serrano | Software Engineer             | San Francisco | 56    | 2012-06-01   | $115,000 |\n",
      "| Name           | Position                      | Office        | Age   | Start date   | Salary   |\n"
     ]
    }
   ],
   "source": [
    "from docling.document_converter import DocumentConverter\n",
    "\n",
    "converter = DocumentConverter()\n",
    "result = converter.convert(source)\n",
    "print(result.document.export_to_markdown())  # output: \"### Docling Technical Report[...]\""
   ]
  },
  {
   "cell_type": "code",
   "execution_count": 8,
   "metadata": {},
   "outputs": [
    {
     "name": "stdout",
     "output_type": "stream",
     "text": [
      "## DataTables example - PDF - image\n",
      "\n",
      "<!-- image -->\n",
      "\n",
      "| Name               | Position                      | Office        |   Age | Start date   | Salary     |\n",
      "|--------------------|-------------------------------|---------------|-------|--------------|------------|\n",
      "| Airi Satou         | Accountant                    | Tokyo         |    33 | 2008-11-28   | $162,700   |\n",
      "| Angelica Ramos     | Chief Executive Officer (CEO) | London        |    47 | 2009-10-09   | $1,200,000 |\n",
      "| Ashton Cox         | Junior Technical Author       | San Francisco |    66 | 2009-01-12   | $86,000    |\n",
      "| Bradley Greer      | Software Engineer             | London        |    41 | 2012-10-13   | $132,000   |\n",
      "| Brenden Wagner     | Software Engineer             | San Francisco |    28 | 2011-06-07   | $206,850   |\n",
      "| Brielle Williamson | Integration Specialist        | New York      |    61 | 2012-12-02   | $372,000   |\n",
      "| Bruno Nash         | Software Engineer             | London        |    38 | 2011-05-03   | $163,500   |\n",
      "| Caesar Vance       | Pre-Sales Support             | New York      |    21 | 2011-12-12   | $106,450   |\n",
      "| Cara Stevens       | Sales Assistant               | New York      |    46 | 2011-12-06   | $145,600   |\n",
      "| Cedric Kelly       | Senior Javascript Developer   | Edinburgh     |    22 | 2012-03-29   | $433,060   |\n",
      "| Charde Marshall    | Regional Director             | San Francisco |    36 | 2008-10-16   | $470,600   |\n",
      "| Colleen Hurst      | Javascript Developer          | San Francisco |    39 | 2009-09-15   | $205,500   |\n",
      "| Dai Rios           | Personnel Lead                | Edinburgh     |    35 | 2012-09-26   | $217,500   |\n",
      "| Donna Snider       | Customer Support              | New York      |    27 | 2011-01-25   | $112,000   |\n",
      "| Doris Wilder       | Sales Assistant               | Sydney        |    23 | 2010-09-20   | $85,600    |\n",
      "| Finn Camacho       | Support Engineer              | San Francisco |    47 | 2009-07-07   | $87,500    |\n",
      "| Fiona Green        | Chief Operating Officer (COO) | San Francisco |    48 | 2010-03-11   | $850,000   |\n",
      "| Garrett Winters    | Accountant                    | Tokyo         |    63 | 2011-07-25   | $170,750   |\n",
      "| Gavin Cortez       | Team Leader                   | San Francisco |    22 | 2008-10-26   | $235,500   |\n",
      "| Gavin Joyce        | Developer                     | Edinburgh     |    42 | 2010-12-22   | $92,575    |\n",
      "| Gloria Little      | Systems Administrator         | New York      |    59 | 2009-04-10   | $237,500   |\n",
      "| Haley Kennedy      | Senior Marketing Designer     | London        |    43 | 2012-12-18   | $313,500   |\n",
      "| Hermione Butler    | Regional Director             | London        |    47 | 2011-03-21   | $356,250   |\n",
      "| Herrod Chandler    | Sales Assistant               | San Francisco |    59 | 2012-08-06   | $137,500   |\n",
      "\n",
      "| Name                | Position                      | Office        |   Age | Start date   | Salary   |\n",
      "|---------------------|-------------------------------|---------------|-------|--------------|----------|\n",
      "| Hope Fuentes        | Secretary                     | San Francisco |    41 | 2010-02-12   | $109,850 |\n",
      "| Howard Hatfield     | Office Manager                | San Francisco |    51 | 2008-12-16   | $164,500 |\n",
      "| Jackson Bradshaw    | Director                      | New York      |    65 | 2008-09-26   | $645,750 |\n",
      "| Jena Gaines         | Office Manager                | London        |    30 | 2008-12-19   | $90,560  |\n",
      "| Jenette Caldwell    | Development Lead              | New York      |    30 | 2011-09-03   | $345,000 |\n",
      "| Jennifer Acosta     | Junior Javascript Developer   | Edinburgh     |    43 | 2013-02-01   | $75,650  |\n",
      "| Jennifer Chang      | Regional Director             | Singapore     |    28 | 2010-11-14   | $357,650 |\n",
      "| Jonas Alexander     | Developer                     | San Francisco |    30 | 2010-07-14   | $86,500  |\n",
      "| Lael Greer          | Systems Administrator         | London        |    21 | 2009-02-27   | $103,500 |\n",
      "| Martena Mccray      | Post-Sales support            | Edinburgh     |    46 | 2011-03-09   | $324,050 |\n",
      "| Michael Bruce       | Javascript Developer          | Singapore     |    29 | 2011-06-27   | $183,000 |\n",
      "| Michael Silva       | Marketing Designer            | London        |    66 | 2012-11-27   | $198,500 |\n",
      "| Michelle House      | Integration Specialist        | Sydney        |    37 | 2011-06-02   | $95,400  |\n",
      "| Olivia Liang        | Support Engineer              | Singapore     |    64 | 2011-02-03   | $234,500 |\n",
      "| Paul Byrd           | Chief Financial Officer (CFO) | New York      |    64 | 2010-06-09   | $725,000 |\n",
      "| Prescott Bartlett   | Technical Author              | London        |    27 | 2011-05-07   | $145,000 |\n",
      "| Quinn Flynn         | Support Lead                  | Edinburgh     |    22 | 2013-03-03   | $342,000 |\n",
      "| Rhona Davidson      | Integration Specialist        | Tokyo         |    55 | 2010-10-14   | $327,900 |\n",
      "| Sakura Yamamoto     | Support Engineer              | Tokyo         |    37 | 2009-08-19   | $139,575 |\n",
      "| Serge Baldwin       | Data Coordinator              | Singapore     |    64 | 2012-04-09   | $138,575 |\n",
      "| Shad Decker         | Regional Director             | Edinburgh     |    51 | 2008-11-13   | $183,000 |\n",
      "| Shou Itou           | Regional Marketing            | Tokyo         |    20 | 2011-08-14   | $163,000 |\n",
      "| Sonya Frost         | Software Engineer             | Edinburgh     |    23 | 2008-12-13   | $103,600 |\n",
      "| Suki Burks          | Developer                     | London        |    53 | 2009-10-22   | $114,500 |\n",
      "| Tatyana Fitzpatrick | Regional Director             | London        |    19 | 2010-03-17   | $385,750 |\n",
      "| Thor Walton         | Developer                     | New York      |    61 | 2013-08-11   | $98,540  |\n",
      "| Tiger Nixon         | System Architect              | Edinburgh     |    61 | 2011-04-25   | $320,800 |\n",
      "| Timothy Mooney      | Office Manager                | London        |    37 | 2008-12-11   | $136,200 |\n",
      "| Unity Butler        | Marketing Designer            | San Francisco |    47 | 2009-12-09   | $85,675  |\n",
      "| Vivian Harrell      | Financial Controller          | San Francisco |    62 | 2009-02-14   | $452,500 |\n",
      "\n",
      "| Name           | Position                      | Office        | Age   | Start date   | Salary   |\n",
      "|----------------|-------------------------------|---------------|-------|--------------|----------|\n",
      "| Yuri Berry     | Chief Marketing Officer (CMO) | New York      | 40    | 2009-06-25   | $675,000 |\n",
      "| Zenaida Frank  | Software Engineer             | New York      | 63    | 2010-01-04   | $125,250 |\n",
      "| Zorita Serrano | Software Engineer             | San Francisco | 56    | 2012-06-01   | $115,000 |\n",
      "| Name           | Position                      | Office        | Age   | Start date   | Salary   |\n"
     ]
    }
   ],
   "source": [
    "from docling.datamodel.base_models import InputFormat\n",
    "from docling.document_converter import DocumentConverter, PdfFormatOption\n",
    "from docling.datamodel.pipeline_options import PdfPipelineOptions, TableFormerMode\n",
    "from docling.datamodel.document import TextItem, TableItem\n",
    "pipeline_options = PdfPipelineOptions(do_table_structure=True)\n",
    "pipeline_options.table_structure_options.mode = TableFormerMode.ACCURATE  # use more accurate TableFormer model\n",
    "\n",
    "doc_converter = DocumentConverter(\n",
    "    format_options={\n",
    "        InputFormat.PDF: PdfFormatOption(pipeline_options=pipeline_options)\n",
    "    }\n",
    ")\n",
    "\n",
    "result = converter.convert(source)\n",
    "print(result.document.export_to_markdown())  # output: \"### Docling Technical Report[...]\""
   ]
  },
  {
   "cell_type": "code",
   "execution_count": 9,
   "metadata": {},
   "outputs": [
    {
     "name": "stdout",
     "output_type": "stream",
     "text": [
      " 0: unspecified with name=_root_\n",
      "  1: section_header\n",
      "  2: picture\n",
      "  3: table\n",
      "  4: table\n",
      "  5: table\n"
     ]
    }
   ],
   "source": [
    "result.document.print_element_tree()"
   ]
  },
  {
   "cell_type": "code",
   "execution_count": 12,
   "metadata": {},
   "outputs": [
    {
     "name": "stdout",
     "output_type": "stream",
     "text": [
      "DataTables example - PDF - image\n",
      "             Name                       Position         Office Age  \\\n",
      "0      Airi Satou                     Accountant          Tokyo  33   \n",
      "1  Angelica Ramos  Chief Executive Officer (CEO)         London  47   \n",
      "2      Ashton Cox        Junior Technical Author  San Francisco  66   \n",
      "3   Bradley Greer              Software Engineer         London  41   \n",
      "4  Brenden Wagner              Software Engineer  San Francisco  28   \n",
      "\n",
      "   Start date      Salary  \n",
      "0  2008-11-28    $162,700  \n",
      "1  2009-10-09  $1,200,000  \n",
      "2  2009-01-12     $86,000  \n",
      "3  2012-10-13    $132,000  \n",
      "4  2011-06-07    $206,850  \n",
      "               Name          Position         Office Age  Start date    Salary\n",
      "0      Hope Fuentes         Secretary  San Francisco  41  2010-02-12  $109,850\n",
      "1   Howard Hatfield    Office Manager  San Francisco  51  2008-12-16  $164,500\n",
      "2  Jackson Bradshaw          Director       New York  65  2008-09-26  $645,750\n",
      "3       Jena Gaines    Office Manager         London  30  2008-12-19   $90,560\n",
      "4  Jenette Caldwell  Development Lead       New York  30  2011-09-03  $345,000\n",
      "             Name                       Position         Office  Age  \\\n",
      "0      Yuri Berry  Chief Marketing Officer (CMO)       New York   40   \n",
      "1   Zenaida Frank              Software Engineer       New York   63   \n",
      "2  Zorita Serrano              Software Engineer  San Francisco   56   \n",
      "3            Name                       Position         Office  Age   \n",
      "\n",
      "   Start date    Salary  \n",
      "0  2009-06-25  $675,000  \n",
      "1  2010-01-04  $125,250  \n",
      "2  2012-06-01  $115,000  \n",
      "3  Start date    Salary  \n"
     ]
    }
   ],
   "source": [
    "import pandas as pd\n",
    "\n",
    "## Iterate the elements in reading order, including hierachy level:\n",
    "for item, level in result.document.iterate_items():\n",
    "    if isinstance(item, TextItem):\n",
    "        print(item.text)\n",
    "    elif isinstance(item, TableItem):\n",
    "        table_df: pd.DataFrame = item.export_to_dataframe()\n",
    "        print(table_df.head())"
   ]
  },
  {
   "cell_type": "code",
   "execution_count": 13,
   "metadata": {},
   "outputs": [
    {
     "data": {
      "text/html": [
       "<div>\n",
       "<style scoped>\n",
       "    .dataframe tbody tr th:only-of-type {\n",
       "        vertical-align: middle;\n",
       "    }\n",
       "\n",
       "    .dataframe tbody tr th {\n",
       "        vertical-align: top;\n",
       "    }\n",
       "\n",
       "    .dataframe thead th {\n",
       "        text-align: right;\n",
       "    }\n",
       "</style>\n",
       "<table border=\"1\" class=\"dataframe\">\n",
       "  <thead>\n",
       "    <tr style=\"text-align: right;\">\n",
       "      <th></th>\n",
       "      <th>Name</th>\n",
       "      <th>Position</th>\n",
       "      <th>Office</th>\n",
       "      <th>Age</th>\n",
       "      <th>Start date</th>\n",
       "      <th>Salary</th>\n",
       "    </tr>\n",
       "  </thead>\n",
       "  <tbody>\n",
       "    <tr>\n",
       "      <th>0</th>\n",
       "      <td>Yuri Berry</td>\n",
       "      <td>Chief Marketing Officer (CMO)</td>\n",
       "      <td>New York</td>\n",
       "      <td>40</td>\n",
       "      <td>2009-06-25</td>\n",
       "      <td>$675,000</td>\n",
       "    </tr>\n",
       "    <tr>\n",
       "      <th>1</th>\n",
       "      <td>Zenaida Frank</td>\n",
       "      <td>Software Engineer</td>\n",
       "      <td>New York</td>\n",
       "      <td>63</td>\n",
       "      <td>2010-01-04</td>\n",
       "      <td>$125,250</td>\n",
       "    </tr>\n",
       "    <tr>\n",
       "      <th>2</th>\n",
       "      <td>Zorita Serrano</td>\n",
       "      <td>Software Engineer</td>\n",
       "      <td>San Francisco</td>\n",
       "      <td>56</td>\n",
       "      <td>2012-06-01</td>\n",
       "      <td>$115,000</td>\n",
       "    </tr>\n",
       "    <tr>\n",
       "      <th>3</th>\n",
       "      <td>Name</td>\n",
       "      <td>Position</td>\n",
       "      <td>Office</td>\n",
       "      <td>Age</td>\n",
       "      <td>Start date</td>\n",
       "      <td>Salary</td>\n",
       "    </tr>\n",
       "  </tbody>\n",
       "</table>\n",
       "</div>"
      ],
      "text/plain": [
       "             Name                       Position         Office  Age  \\\n",
       "0      Yuri Berry  Chief Marketing Officer (CMO)       New York   40   \n",
       "1   Zenaida Frank              Software Engineer       New York   63   \n",
       "2  Zorita Serrano              Software Engineer  San Francisco   56   \n",
       "3            Name                       Position         Office  Age   \n",
       "\n",
       "   Start date    Salary  \n",
       "0  2009-06-25  $675,000  \n",
       "1  2010-01-04  $125,250  \n",
       "2  2012-06-01  $115,000  \n",
       "3  Start date    Salary  "
      ]
     },
     "execution_count": 13,
     "metadata": {},
     "output_type": "execute_result"
    }
   ],
   "source": [
    "table_df"
   ]
  },
  {
   "cell_type": "code",
   "execution_count": 15,
   "metadata": {},
   "outputs": [],
   "source": [
    "from pprint import pprint"
   ]
  },
  {
   "cell_type": "code",
   "execution_count": 23,
   "metadata": {},
   "outputs": [],
   "source": [
    "from pathlib import Path\n",
    "\n",
    "# Convert the string to a Path object\n",
    "filename = Path(\"example.html\")\n",
    "\n",
    "# Call the save_as_html function with the Path object\n",
    "result.document.save_as_html(filename)"
   ]
  }
 ],
 "metadata": {
  "kernelspec": {
   "display_name": ".venv",
   "language": "python",
   "name": "python3"
  },
  "language_info": {
   "codemirror_mode": {
    "name": "ipython",
    "version": 3
   },
   "file_extension": ".py",
   "mimetype": "text/x-python",
   "name": "python",
   "nbconvert_exporter": "python",
   "pygments_lexer": "ipython3",
   "version": "3.10.15"
  }
 },
 "nbformat": 4,
 "nbformat_minor": 2
}
